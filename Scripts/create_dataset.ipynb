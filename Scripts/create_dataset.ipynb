{
 "cells": [
  {
   "cell_type": "code",
   "execution_count": 1,
   "id": "disciplinary-logistics",
   "metadata": {},
   "outputs": [],
   "source": [
    "import csv\n",
    "import pandas as pd\n",
    "import ast"
   ]
  },
  {
   "cell_type": "code",
   "execution_count": 2,
   "id": "streaming-detector",
   "metadata": {},
   "outputs": [],
   "source": [
    "memes_df = pd.read_csv('textAllEntities.csv', encoding = 'utf-8')"
   ]
  },
  {
   "cell_type": "code",
   "execution_count": 8,
   "id": "greek-principle",
   "metadata": {},
   "outputs": [],
   "source": [
    "memes_df = memes_df[[\"OCR\",\"hero\",\"villain\",\"victim\",\"other\"]]"
   ]
  },
  {
   "cell_type": "code",
   "execution_count": null,
   "id": "apparent-kruger",
   "metadata": {},
   "outputs": [],
   "source": [
    "reformatted_memes = []\n",
    "skipped = 0\n",
    "for i, text in enumerate(memes_df[\"OCR\"]):\n",
    "    text = str(text).replace(\"\\n\",\" \")\n",
    "    hero = ast.literal_eval(memes_df[\"hero\"][i])\n",
    "    villain = ast.literal_eval(memes_df[\"villain\"][i])\n",
    "    victim = ast.literal_eval(memes_df[\"victim\"][i])\n",
    "    other = ast.literal_eval(memes_df[\"other\"][i])\n",
    "    if len(text)==0:\n",
    "        skipped+=1\n",
    "        continue\n",
    "    for j in hero:\n",
    "        if len(text)==0:\n",
    "        skipped+=1\n",
    "        continue\n",
    "        reformatted_memes.append([text, j, \"hero\"])\n",
    "    for j in villain:\n",
    "        reformatted_memes.append([text, j, \"villain\"])\n",
    "    for j in victim:\n",
    "        reformatted_memes.append([text, j, \"victim\"])\n",
    "    for j in other:\n",
    "        reformatted_memes.append([text, j, \"other\"])"
   ]
  },
  {
   "cell_type": "code",
   "execution_count": 7,
   "id": "comprehensive-factor",
   "metadata": {},
   "outputs": [
    {
     "data": {
      "text/plain": [
       "0"
      ]
     },
     "execution_count": 7,
     "metadata": {},
     "output_type": "execute_result"
    }
   ],
   "source": [
    "skipped"
   ]
  },
  {
   "cell_type": "code",
   "execution_count": 6,
   "id": "south-democrat",
   "metadata": {},
   "outputs": [],
   "source": [
    "with open(\"final_data.csv\", \"w\") as f:\n",
    "    writer = csv.writer(f)\n",
    "    writer.writerows(reformatted_memes)"
   ]
  },
  {
   "cell_type": "code",
   "execution_count": 7,
   "id": "right-newcastle",
   "metadata": {},
   "outputs": [],
   "source": [
    "from sklearn.model_selection import train_test_split\n",
    "train, test = train_test_split(reformatted_memes, shuffle=True, train_size=0.8)"
   ]
  },
  {
   "cell_type": "code",
   "execution_count": 8,
   "id": "suffering-throat",
   "metadata": {},
   "outputs": [],
   "source": [
    "with open(\"train_data.csv\", \"w\") as f:\n",
    "    writer = csv.writer(f, quoting=csv.QUOTE_MINIMAL)\n",
    "    writer.writerow([\"sentence\",\"aspect\",\"label\"])\n",
    "    writer.writerows(train)\n",
    "with open(\"test_data.csv\", \"w\") as f:\n",
    "    writer = csv.writer(f, quoting=csv.QUOTE_MINIMAL)\n",
    "    writer.writerow([\"sentence\",\"aspect\",\"label\"])\n",
    "    writer.writerows(test)"
   ]
  },
  {
   "cell_type": "code",
   "execution_count": null,
   "id": "dominant-vietnamese",
   "metadata": {},
   "outputs": [],
   "source": []
  }
 ],
 "metadata": {
  "kernelspec": {
   "display_name": "Python 3",
   "language": "python",
   "name": "python3"
  },
  "language_info": {
   "codemirror_mode": {
    "name": "ipython",
    "version": 3
   },
   "file_extension": ".py",
   "mimetype": "text/x-python",
   "name": "python",
   "nbconvert_exporter": "python",
   "pygments_lexer": "ipython3",
   "version": "3.9.7"
  }
 },
 "nbformat": 4,
 "nbformat_minor": 5
}
