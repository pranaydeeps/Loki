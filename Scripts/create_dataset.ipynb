{
 "cells": [
  {
   "cell_type": "code",
   "execution_count": 5,
   "id": "disciplinary-logistics",
   "metadata": {},
   "outputs": [],
   "source": [
    "import csv\n",
    "import pandas as pd\n",
    "import ast\n",
    "import random"
   ]
  },
  {
   "cell_type": "code",
   "execution_count": 13,
   "id": "better-christopher",
   "metadata": {},
   "outputs": [],
   "source": [
    "undersampling = 0.5\n",
    "oversampling = [1, 2, 3]"
   ]
  },
  {
   "cell_type": "code",
   "execution_count": 14,
   "id": "streaming-detector",
   "metadata": {},
   "outputs": [],
   "source": [
    "memes_df = pd.read_csv('textAllEntities.csv', encoding = 'utf-8')"
   ]
  },
  {
   "cell_type": "code",
   "execution_count": 15,
   "id": "greek-principle",
   "metadata": {},
   "outputs": [],
   "source": [
    "memes_df = memes_df[[\"OCR\",\"hero\",\"villain\",\"victim\",\"other\"]]"
   ]
  },
  {
   "cell_type": "code",
   "execution_count": 16,
   "id": "discrete-workshop",
   "metadata": {},
   "outputs": [],
   "source": [
    "reformatted_memes = []\n",
    "skipped = 0\n",
    "for i, text in enumerate(memes_df[\"OCR\"]):\n",
    "    text = str(text).replace(\"\\n\",\" \")\n",
    "    hero = ast.literal_eval(memes_df[\"hero\"][i])\n",
    "    villain = ast.literal_eval(memes_df[\"villain\"][i])\n",
    "    victim = ast.literal_eval(memes_df[\"victim\"][i])\n",
    "    other = ast.literal_eval(memes_df[\"other\"][i])\n",
    "    if text == 'nan':\n",
    "        skipped+=1\n",
    "        continue\n",
    "    if len(text)==0:\n",
    "        skipped+=1\n",
    "        continue\n",
    "    for j in hero:\n",
    "        if len(j)==0:\n",
    "            skipped+=1\n",
    "            continue\n",
    "        reformatted_memes.append([text, j, \"hero\"])\n",
    "    for j in villain:\n",
    "        if len(j)==0:\n",
    "            skipped+=1\n",
    "            continue\n",
    "        reformatted_memes.append([text, j, \"villain\"])\n",
    "    for j in victim:\n",
    "        if len(j)==0:\n",
    "            skipped+=1\n",
    "            continue\n",
    "        reformatted_memes.append([text, j, \"victim\"])\n",
    "    for j in other:\n",
    "        if len(j)==0:\n",
    "            skipped+=1\n",
    "            continue\n",
    "        reformatted_memes.append([text, j, \"other\"])"
   ]
  },
  {
   "cell_type": "code",
   "execution_count": 17,
   "id": "comprehensive-factor",
   "metadata": {},
   "outputs": [
    {
     "data": {
      "text/plain": [
       "11"
      ]
     },
     "execution_count": 17,
     "metadata": {},
     "output_type": "execute_result"
    }
   ],
   "source": [
    "skipped"
   ]
  },
  {
   "cell_type": "code",
   "execution_count": 18,
   "id": "south-democrat",
   "metadata": {},
   "outputs": [],
   "source": [
    "with open(\"final_data.csv\", \"w\") as f:\n",
    "    writer = csv.writer(f)\n",
    "    writer.writerows(reformatted_memes)"
   ]
  },
  {
   "cell_type": "code",
   "execution_count": 19,
   "id": "right-newcastle",
   "metadata": {},
   "outputs": [],
   "source": [
    "from sklearn.model_selection import train_test_split\n",
    "train, test = train_test_split(reformatted_memes, shuffle=True, train_size=0.8)"
   ]
  },
  {
   "cell_type": "code",
   "execution_count": 21,
   "id": "italic-technology",
   "metadata": {},
   "outputs": [
    {
     "ename": "TypeError",
     "evalue": "'list' object cannot be interpreted as an integer",
     "output_type": "error",
     "traceback": [
      "\u001b[0;31m---------------------------------------------------------------------------\u001b[0m",
      "\u001b[0;31mTypeError\u001b[0m                                 Traceback (most recent call last)",
      "\u001b[0;32m<ipython-input-21-9a2b6a7d89f9>\u001b[0m in \u001b[0;36m<module>\u001b[0;34m\u001b[0m\n\u001b[1;32m      8\u001b[0m     \u001b[0;32melse\u001b[0m\u001b[0;34m:\u001b[0m\u001b[0;34m\u001b[0m\u001b[0;34m\u001b[0m\u001b[0m\n\u001b[1;32m      9\u001b[0m         \u001b[0mduplication\u001b[0m \u001b[0;34m=\u001b[0m \u001b[0mrandom\u001b[0m\u001b[0;34m.\u001b[0m\u001b[0mchoice\u001b[0m\u001b[0;34m(\u001b[0m\u001b[0moversampling\u001b[0m\u001b[0;34m)\u001b[0m\u001b[0;34m\u001b[0m\u001b[0;34m\u001b[0m\u001b[0m\n\u001b[0;32m---> 10\u001b[0;31m         \u001b[0;32mfor\u001b[0m \u001b[0mi\u001b[0m \u001b[0;32min\u001b[0m \u001b[0mrange\u001b[0m \u001b[0;34m(\u001b[0m\u001b[0;36m0\u001b[0m\u001b[0;34m,\u001b[0m\u001b[0moversampling\u001b[0m\u001b[0;34m)\u001b[0m\u001b[0;34m:\u001b[0m\u001b[0;34m\u001b[0m\u001b[0;34m\u001b[0m\u001b[0m\n\u001b[0m\u001b[1;32m     11\u001b[0m             \u001b[0mresample_train\u001b[0m\u001b[0;34m.\u001b[0m\u001b[0mappend\u001b[0m\u001b[0;34m(\u001b[0m\u001b[0mitem\u001b[0m\u001b[0;34m)\u001b[0m\u001b[0;34m\u001b[0m\u001b[0;34m\u001b[0m\u001b[0m\n",
      "\u001b[0;31mTypeError\u001b[0m: 'list' object cannot be interpreted as an integer"
     ]
    }
   ],
   "source": [
    "resample_train = []\n",
    "for item in train:\n",
    "    if \"other\" in item[2]:\n",
    "        if random.random()>undersampling:\n",
    "            continue\n",
    "        else:\n",
    "            resample_train.append(item)\n",
    "    else:\n",
    "        duplication = random.choice(oversampling)\n",
    "        for i in range (0,oversampling):\n",
    "            resample_train.append(item)"
   ]
  },
  {
   "cell_type": "code",
   "execution_count": null,
   "id": "liked-mason",
   "metadata": {},
   "outputs": [],
   "source": [
    "resample_train = []\n",
    "for item in train:\n",
    "    if \"other\" in item[2]:\n",
    "        if random.random()>undersampling:\n",
    "            continue\n",
    "        else:\n",
    "            resample_train.append(item)\n",
    "    else:    \n",
    "        resample_train.append(item)"
   ]
  },
  {
   "cell_type": "code",
   "execution_count": null,
   "id": "spare-thanksgiving",
   "metadata": {},
   "outputs": [],
   "source": [
    "len(resample_train)"
   ]
  },
  {
   "cell_type": "code",
   "execution_count": null,
   "id": "suffering-throat",
   "metadata": {},
   "outputs": [],
   "source": [
    "with open(\"train_data.csv\", \"w\") as f:\n",
    "    writer = csv.writer(f, quoting=csv.QUOTE_MINIMAL)\n",
    "    writer.writerow([\"sentence\",\"aspect\",\"label\"])\n",
    "    writer.writerows(resample_train)\n",
    "with open(\"test_data.csv\", \"w\") as f:\n",
    "    writer = csv.writer(f, quoting=csv.QUOTE_MINIMAL)\n",
    "    writer.writerow([\"sentence\",\"aspect\",\"label\"])\n",
    "    writer.writerows(test)"
   ]
  },
  {
   "cell_type": "code",
   "execution_count": null,
   "id": "dominant-vietnamese",
   "metadata": {},
   "outputs": [],
   "source": [
    "from collections import Counter\n",
    "train_labels = Counter([j[2] for j in resample_train])\n",
    "test_labels = Counter([j[2] for j in test])\n",
    "print(train_labels)\n",
    "print(test_labels)"
   ]
  },
  {
   "cell_type": "code",
   "execution_count": null,
   "id": "wired-timber",
   "metadata": {},
   "outputs": [],
   "source": []
  }
 ],
 "metadata": {
  "kernelspec": {
   "display_name": "Python 3",
   "language": "python",
   "name": "python3"
  },
  "language_info": {
   "codemirror_mode": {
    "name": "ipython",
    "version": 3
   },
   "file_extension": ".py",
   "mimetype": "text/x-python",
   "name": "python",
   "nbconvert_exporter": "python",
   "pygments_lexer": "ipython3",
   "version": "3.9.10"
  }
 },
 "nbformat": 4,
 "nbformat_minor": 5
}
