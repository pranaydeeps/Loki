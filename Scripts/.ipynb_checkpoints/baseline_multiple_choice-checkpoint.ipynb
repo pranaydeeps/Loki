{
 "cells": [
  {
   "cell_type": "code",
   "execution_count": 2,
   "id": "acceptable-adrian",
   "metadata": {},
   "outputs": [],
   "source": [
    "from transformers import BertTokenizer, BertModel\n",
    "import torch\n",
    "import pandas as pd\n",
    "import csv\n",
    "from sklearn.model_selection import train_test_split\n",
    "from sklearn.metrics import classification_report\n",
    "import tqdm\n",
    "import numpy as np"
   ]
  },
  {
   "cell_type": "code",
   "execution_count": 3,
   "id": "looking-premium",
   "metadata": {},
   "outputs": [],
   "source": [
    "# input_df = pd.read_csv('data/aspect_category_final.csv')\n",
    "with open('final_data.csv') as fp:\n",
    "    reader = csv.reader(fp, delimiter=\",\", quotechar='\"')\n",
    "    # next(reader, None)  # skip the headers\n",
    "    final_data = [row for row in reader]"
   ]
  },
  {
   "cell_type": "code",
   "execution_count": 4,
   "id": "honey-albert",
   "metadata": {},
   "outputs": [],
   "source": [
    "tags = []\n",
    "for dat in final_data:\n",
    "    tags.append(dat[2])\n",
    "    \n",
    "tags = list(set(tags))\n",
    "\",\".join(tags)\n",
    "tag2idx = {tag:idx for idx, tag in enumerate(tags)}\n",
    "idx2tag = {idx:tag for idx, tag in enumerate(tags)}"
   ]
  },
  {
   "cell_type": "code",
   "execution_count": 5,
   "id": "super-collar",
   "metadata": {},
   "outputs": [
    {
     "name": "stdout",
     "output_type": "stream",
     "text": [
      "{'other': 0, 'victim': 1, 'villain': 2, 'hero': 3}\n"
     ]
    }
   ],
   "source": [
    "print(tag2idx)"
   ]
  },
  {
   "cell_type": "code",
   "execution_count": 6,
   "id": "automatic-airfare",
   "metadata": {},
   "outputs": [],
   "source": [
    "from transformers import AutoTokenizer\n",
    "tokenizer = AutoTokenizer.from_pretrained(\"bert-base-uncased\")"
   ]
  },
  {
   "cell_type": "code",
   "execution_count": null,
   "id": "official-journey",
   "metadata": {},
   "outputs": [],
   "source": [
    "ending_names = [\"hero\", \"villain\", \"victim\"]"
   ]
  }
 ],
 "metadata": {
  "kernelspec": {
   "display_name": "Python 3",
   "language": "python",
   "name": "python3"
  },
  "language_info": {
   "codemirror_mode": {
    "name": "ipython",
    "version": 3
   },
   "file_extension": ".py",
   "mimetype": "text/x-python",
   "name": "python",
   "nbconvert_exporter": "python",
   "pygments_lexer": "ipython3",
   "version": "3.9.7"
  }
 },
 "nbformat": 4,
 "nbformat_minor": 5
}
